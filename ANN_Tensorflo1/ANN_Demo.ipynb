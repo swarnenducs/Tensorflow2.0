{
 "cells": [
  {
   "cell_type": "code",
   "execution_count": 52,
   "metadata": {},
   "outputs": [
    {
     "name": "stdout",
     "output_type": "stream",
     "text": [
      "The tensorboard extension is already loaded. To reload it, use:\n",
      "  %reload_ext tensorboard\n"
     ]
    }
   ],
   "source": [
    "import tensorflow as tf\n",
    "from tensorflow import keras\n",
    "from tensorflow.keras import Sequential\n",
    "from tensorflow.keras.layers import Flatten, Dense\n",
    "import numpy as np\n",
    "import pandas as pd\n",
    "from sklearn.model_selection import train_test_split\n",
    "from sklearn.preprocessing import LabelEncoder\n",
    "%load_ext tensorboard\n",
    "\n",
    "import datetime\n"
   ]
  },
  {
   "cell_type": "code",
   "execution_count": 53,
   "metadata": {},
   "outputs": [
    {
     "name": "stdout",
     "output_type": "stream",
     "text": [
      "2.1.0\n"
     ]
    }
   ],
   "source": [
    "print(tf.__version__)"
   ]
  },
  {
   "cell_type": "code",
   "execution_count": 54,
   "metadata": {},
   "outputs": [
    {
     "data": {
      "text/html": [
       "<div>\n",
       "<style scoped>\n",
       "    .dataframe tbody tr th:only-of-type {\n",
       "        vertical-align: middle;\n",
       "    }\n",
       "\n",
       "    .dataframe tbody tr th {\n",
       "        vertical-align: top;\n",
       "    }\n",
       "\n",
       "    .dataframe thead th {\n",
       "        text-align: right;\n",
       "    }\n",
       "</style>\n",
       "<table border=\"1\" class=\"dataframe\">\n",
       "  <thead>\n",
       "    <tr style=\"text-align: right;\">\n",
       "      <th></th>\n",
       "      <th>RowNumber</th>\n",
       "      <th>CustomerId</th>\n",
       "      <th>Surname</th>\n",
       "      <th>CreditScore</th>\n",
       "      <th>Geography</th>\n",
       "      <th>Gender</th>\n",
       "      <th>Age</th>\n",
       "      <th>Tenure</th>\n",
       "      <th>Balance</th>\n",
       "      <th>NumOfProducts</th>\n",
       "      <th>HasCrCard</th>\n",
       "      <th>IsActiveMember</th>\n",
       "      <th>EstimatedSalary</th>\n",
       "      <th>Exited</th>\n",
       "    </tr>\n",
       "  </thead>\n",
       "  <tbody>\n",
       "    <tr>\n",
       "      <th>0</th>\n",
       "      <td>1</td>\n",
       "      <td>15634602</td>\n",
       "      <td>Hargrave</td>\n",
       "      <td>619</td>\n",
       "      <td>France</td>\n",
       "      <td>Female</td>\n",
       "      <td>42</td>\n",
       "      <td>2</td>\n",
       "      <td>0.00</td>\n",
       "      <td>1</td>\n",
       "      <td>1</td>\n",
       "      <td>1</td>\n",
       "      <td>101348.88</td>\n",
       "      <td>1</td>\n",
       "    </tr>\n",
       "    <tr>\n",
       "      <th>1</th>\n",
       "      <td>2</td>\n",
       "      <td>15647311</td>\n",
       "      <td>Hill</td>\n",
       "      <td>608</td>\n",
       "      <td>Spain</td>\n",
       "      <td>Female</td>\n",
       "      <td>41</td>\n",
       "      <td>1</td>\n",
       "      <td>83807.86</td>\n",
       "      <td>1</td>\n",
       "      <td>0</td>\n",
       "      <td>1</td>\n",
       "      <td>112542.58</td>\n",
       "      <td>0</td>\n",
       "    </tr>\n",
       "    <tr>\n",
       "      <th>2</th>\n",
       "      <td>3</td>\n",
       "      <td>15619304</td>\n",
       "      <td>Onio</td>\n",
       "      <td>502</td>\n",
       "      <td>France</td>\n",
       "      <td>Female</td>\n",
       "      <td>42</td>\n",
       "      <td>8</td>\n",
       "      <td>159660.80</td>\n",
       "      <td>3</td>\n",
       "      <td>1</td>\n",
       "      <td>0</td>\n",
       "      <td>113931.57</td>\n",
       "      <td>1</td>\n",
       "    </tr>\n",
       "    <tr>\n",
       "      <th>3</th>\n",
       "      <td>4</td>\n",
       "      <td>15701354</td>\n",
       "      <td>Boni</td>\n",
       "      <td>699</td>\n",
       "      <td>France</td>\n",
       "      <td>Female</td>\n",
       "      <td>39</td>\n",
       "      <td>1</td>\n",
       "      <td>0.00</td>\n",
       "      <td>2</td>\n",
       "      <td>0</td>\n",
       "      <td>0</td>\n",
       "      <td>93826.63</td>\n",
       "      <td>0</td>\n",
       "    </tr>\n",
       "    <tr>\n",
       "      <th>4</th>\n",
       "      <td>5</td>\n",
       "      <td>15737888</td>\n",
       "      <td>Mitchell</td>\n",
       "      <td>850</td>\n",
       "      <td>Spain</td>\n",
       "      <td>Female</td>\n",
       "      <td>43</td>\n",
       "      <td>2</td>\n",
       "      <td>125510.82</td>\n",
       "      <td>1</td>\n",
       "      <td>1</td>\n",
       "      <td>1</td>\n",
       "      <td>79084.10</td>\n",
       "      <td>0</td>\n",
       "    </tr>\n",
       "  </tbody>\n",
       "</table>\n",
       "</div>"
      ],
      "text/plain": [
       "   RowNumber  CustomerId   Surname  CreditScore Geography  Gender  Age  \\\n",
       "0          1    15634602  Hargrave          619    France  Female   42   \n",
       "1          2    15647311      Hill          608     Spain  Female   41   \n",
       "2          3    15619304      Onio          502    France  Female   42   \n",
       "3          4    15701354      Boni          699    France  Female   39   \n",
       "4          5    15737888  Mitchell          850     Spain  Female   43   \n",
       "\n",
       "   Tenure    Balance  NumOfProducts  HasCrCard  IsActiveMember  \\\n",
       "0       2       0.00              1          1               1   \n",
       "1       1   83807.86              1          0               1   \n",
       "2       8  159660.80              3          1               0   \n",
       "3       1       0.00              2          0               0   \n",
       "4       2  125510.82              1          1               1   \n",
       "\n",
       "   EstimatedSalary  Exited  \n",
       "0        101348.88       1  \n",
       "1        112542.58       0  \n",
       "2        113931.57       1  \n",
       "3         93826.63       0  \n",
       "4         79084.10       0  "
      ]
     },
     "execution_count": 54,
     "metadata": {},
     "output_type": "execute_result"
    }
   ],
   "source": [
    "dataset = pd.read_csv('Customer_Churn_Modelling.csv')\n",
    "dataset.head()\n"
   ]
  },
  {
   "cell_type": "code",
   "execution_count": 55,
   "metadata": {},
   "outputs": [
    {
     "data": {
      "text/html": [
       "<div>\n",
       "<style scoped>\n",
       "    .dataframe tbody tr th:only-of-type {\n",
       "        vertical-align: middle;\n",
       "    }\n",
       "\n",
       "    .dataframe tbody tr th {\n",
       "        vertical-align: top;\n",
       "    }\n",
       "\n",
       "    .dataframe thead th {\n",
       "        text-align: right;\n",
       "    }\n",
       "</style>\n",
       "<table border=\"1\" class=\"dataframe\">\n",
       "  <thead>\n",
       "    <tr style=\"text-align: right;\">\n",
       "      <th></th>\n",
       "      <th>CreditScore</th>\n",
       "      <th>Geography</th>\n",
       "      <th>Gender</th>\n",
       "      <th>Age</th>\n",
       "      <th>Tenure</th>\n",
       "      <th>Balance</th>\n",
       "      <th>NumOfProducts</th>\n",
       "      <th>HasCrCard</th>\n",
       "      <th>IsActiveMember</th>\n",
       "      <th>EstimatedSalary</th>\n",
       "    </tr>\n",
       "  </thead>\n",
       "  <tbody>\n",
       "    <tr>\n",
       "      <th>0</th>\n",
       "      <td>619</td>\n",
       "      <td>France</td>\n",
       "      <td>Female</td>\n",
       "      <td>42</td>\n",
       "      <td>2</td>\n",
       "      <td>0.00</td>\n",
       "      <td>1</td>\n",
       "      <td>1</td>\n",
       "      <td>1</td>\n",
       "      <td>101348.88</td>\n",
       "    </tr>\n",
       "    <tr>\n",
       "      <th>1</th>\n",
       "      <td>608</td>\n",
       "      <td>Spain</td>\n",
       "      <td>Female</td>\n",
       "      <td>41</td>\n",
       "      <td>1</td>\n",
       "      <td>83807.86</td>\n",
       "      <td>1</td>\n",
       "      <td>0</td>\n",
       "      <td>1</td>\n",
       "      <td>112542.58</td>\n",
       "    </tr>\n",
       "    <tr>\n",
       "      <th>2</th>\n",
       "      <td>502</td>\n",
       "      <td>France</td>\n",
       "      <td>Female</td>\n",
       "      <td>42</td>\n",
       "      <td>8</td>\n",
       "      <td>159660.80</td>\n",
       "      <td>3</td>\n",
       "      <td>1</td>\n",
       "      <td>0</td>\n",
       "      <td>113931.57</td>\n",
       "    </tr>\n",
       "    <tr>\n",
       "      <th>3</th>\n",
       "      <td>699</td>\n",
       "      <td>France</td>\n",
       "      <td>Female</td>\n",
       "      <td>39</td>\n",
       "      <td>1</td>\n",
       "      <td>0.00</td>\n",
       "      <td>2</td>\n",
       "      <td>0</td>\n",
       "      <td>0</td>\n",
       "      <td>93826.63</td>\n",
       "    </tr>\n",
       "    <tr>\n",
       "      <th>4</th>\n",
       "      <td>850</td>\n",
       "      <td>Spain</td>\n",
       "      <td>Female</td>\n",
       "      <td>43</td>\n",
       "      <td>2</td>\n",
       "      <td>125510.82</td>\n",
       "      <td>1</td>\n",
       "      <td>1</td>\n",
       "      <td>1</td>\n",
       "      <td>79084.10</td>\n",
       "    </tr>\n",
       "  </tbody>\n",
       "</table>\n",
       "</div>"
      ],
      "text/plain": [
       "   CreditScore Geography  Gender  Age  Tenure    Balance  NumOfProducts  \\\n",
       "0          619    France  Female   42       2       0.00              1   \n",
       "1          608     Spain  Female   41       1   83807.86              1   \n",
       "2          502    France  Female   42       8  159660.80              3   \n",
       "3          699    France  Female   39       1       0.00              2   \n",
       "4          850     Spain  Female   43       2  125510.82              1   \n",
       "\n",
       "   HasCrCard  IsActiveMember  EstimatedSalary  \n",
       "0          1               1        101348.88  \n",
       "1          0               1        112542.58  \n",
       "2          1               0        113931.57  \n",
       "3          0               0         93826.63  \n",
       "4          1               1         79084.10  "
      ]
     },
     "execution_count": 55,
     "metadata": {},
     "output_type": "execute_result"
    }
   ],
   "source": [
    "X = dataset.drop(labels=['CustomerId', 'Surname', 'RowNumber', 'Exited'], axis = 1)\n",
    "y = dataset['Exited']\n",
    "X.head()\n"
   ]
  },
  {
   "cell_type": "code",
   "execution_count": 56,
   "metadata": {},
   "outputs": [
    {
     "data": {
      "text/plain": [
       "0    1\n",
       "1    0\n",
       "2    1\n",
       "3    0\n",
       "4    0\n",
       "Name: Exited, dtype: int64"
      ]
     },
     "execution_count": 56,
     "metadata": {},
     "output_type": "execute_result"
    }
   ],
   "source": [
    "y.head()"
   ]
  },
  {
   "cell_type": "code",
   "execution_count": 57,
   "metadata": {},
   "outputs": [
    {
     "data": {
      "text/html": [
       "<div>\n",
       "<style scoped>\n",
       "    .dataframe tbody tr th:only-of-type {\n",
       "        vertical-align: middle;\n",
       "    }\n",
       "\n",
       "    .dataframe tbody tr th {\n",
       "        vertical-align: top;\n",
       "    }\n",
       "\n",
       "    .dataframe thead th {\n",
       "        text-align: right;\n",
       "    }\n",
       "</style>\n",
       "<table border=\"1\" class=\"dataframe\">\n",
       "  <thead>\n",
       "    <tr style=\"text-align: right;\">\n",
       "      <th></th>\n",
       "      <th>CreditScore</th>\n",
       "      <th>Geography</th>\n",
       "      <th>Gender</th>\n",
       "      <th>Age</th>\n",
       "      <th>Tenure</th>\n",
       "      <th>Balance</th>\n",
       "      <th>NumOfProducts</th>\n",
       "      <th>HasCrCard</th>\n",
       "      <th>IsActiveMember</th>\n",
       "      <th>EstimatedSalary</th>\n",
       "    </tr>\n",
       "  </thead>\n",
       "  <tbody>\n",
       "    <tr>\n",
       "      <th>0</th>\n",
       "      <td>619</td>\n",
       "      <td>0</td>\n",
       "      <td>0</td>\n",
       "      <td>42</td>\n",
       "      <td>2</td>\n",
       "      <td>0.00</td>\n",
       "      <td>1</td>\n",
       "      <td>1</td>\n",
       "      <td>1</td>\n",
       "      <td>101348.88</td>\n",
       "    </tr>\n",
       "    <tr>\n",
       "      <th>1</th>\n",
       "      <td>608</td>\n",
       "      <td>2</td>\n",
       "      <td>0</td>\n",
       "      <td>41</td>\n",
       "      <td>1</td>\n",
       "      <td>83807.86</td>\n",
       "      <td>1</td>\n",
       "      <td>0</td>\n",
       "      <td>1</td>\n",
       "      <td>112542.58</td>\n",
       "    </tr>\n",
       "    <tr>\n",
       "      <th>2</th>\n",
       "      <td>502</td>\n",
       "      <td>0</td>\n",
       "      <td>0</td>\n",
       "      <td>42</td>\n",
       "      <td>8</td>\n",
       "      <td>159660.80</td>\n",
       "      <td>3</td>\n",
       "      <td>1</td>\n",
       "      <td>0</td>\n",
       "      <td>113931.57</td>\n",
       "    </tr>\n",
       "    <tr>\n",
       "      <th>3</th>\n",
       "      <td>699</td>\n",
       "      <td>0</td>\n",
       "      <td>0</td>\n",
       "      <td>39</td>\n",
       "      <td>1</td>\n",
       "      <td>0.00</td>\n",
       "      <td>2</td>\n",
       "      <td>0</td>\n",
       "      <td>0</td>\n",
       "      <td>93826.63</td>\n",
       "    </tr>\n",
       "    <tr>\n",
       "      <th>4</th>\n",
       "      <td>850</td>\n",
       "      <td>2</td>\n",
       "      <td>0</td>\n",
       "      <td>43</td>\n",
       "      <td>2</td>\n",
       "      <td>125510.82</td>\n",
       "      <td>1</td>\n",
       "      <td>1</td>\n",
       "      <td>1</td>\n",
       "      <td>79084.10</td>\n",
       "    </tr>\n",
       "  </tbody>\n",
       "</table>\n",
       "</div>"
      ],
      "text/plain": [
       "   CreditScore  Geography  Gender  Age  Tenure    Balance  NumOfProducts  \\\n",
       "0          619          0       0   42       2       0.00              1   \n",
       "1          608          2       0   41       1   83807.86              1   \n",
       "2          502          0       0   42       8  159660.80              3   \n",
       "3          699          0       0   39       1       0.00              2   \n",
       "4          850          2       0   43       2  125510.82              1   \n",
       "\n",
       "   HasCrCard  IsActiveMember  EstimatedSalary  \n",
       "0          1               1        101348.88  \n",
       "1          0               1        112542.58  \n",
       "2          1               0        113931.57  \n",
       "3          0               0         93826.63  \n",
       "4          1               1         79084.10  "
      ]
     },
     "execution_count": 57,
     "metadata": {},
     "output_type": "execute_result"
    }
   ],
   "source": [
    "label1 = LabelEncoder()\n",
    "X['Geography'] = label1.fit_transform(X['Geography'])\n",
    "label = LabelEncoder()\n",
    "X['Gender'] = label.fit_transform(X['Gender'])\n",
    "X.head()"
   ]
  },
  {
   "cell_type": "code",
   "execution_count": 58,
   "metadata": {},
   "outputs": [
    {
     "data": {
      "text/html": [
       "<div>\n",
       "<style scoped>\n",
       "    .dataframe tbody tr th:only-of-type {\n",
       "        vertical-align: middle;\n",
       "    }\n",
       "\n",
       "    .dataframe tbody tr th {\n",
       "        vertical-align: top;\n",
       "    }\n",
       "\n",
       "    .dataframe thead th {\n",
       "        text-align: right;\n",
       "    }\n",
       "</style>\n",
       "<table border=\"1\" class=\"dataframe\">\n",
       "  <thead>\n",
       "    <tr style=\"text-align: right;\">\n",
       "      <th></th>\n",
       "      <th>CreditScore</th>\n",
       "      <th>Gender</th>\n",
       "      <th>Age</th>\n",
       "      <th>Tenure</th>\n",
       "      <th>Balance</th>\n",
       "      <th>NumOfProducts</th>\n",
       "      <th>HasCrCard</th>\n",
       "      <th>IsActiveMember</th>\n",
       "      <th>EstimatedSalary</th>\n",
       "      <th>Geography_1</th>\n",
       "      <th>Geography_2</th>\n",
       "    </tr>\n",
       "  </thead>\n",
       "  <tbody>\n",
       "    <tr>\n",
       "      <th>0</th>\n",
       "      <td>619</td>\n",
       "      <td>0</td>\n",
       "      <td>42</td>\n",
       "      <td>2</td>\n",
       "      <td>0.00</td>\n",
       "      <td>1</td>\n",
       "      <td>1</td>\n",
       "      <td>1</td>\n",
       "      <td>101348.88</td>\n",
       "      <td>0</td>\n",
       "      <td>0</td>\n",
       "    </tr>\n",
       "    <tr>\n",
       "      <th>1</th>\n",
       "      <td>608</td>\n",
       "      <td>0</td>\n",
       "      <td>41</td>\n",
       "      <td>1</td>\n",
       "      <td>83807.86</td>\n",
       "      <td>1</td>\n",
       "      <td>0</td>\n",
       "      <td>1</td>\n",
       "      <td>112542.58</td>\n",
       "      <td>0</td>\n",
       "      <td>1</td>\n",
       "    </tr>\n",
       "    <tr>\n",
       "      <th>2</th>\n",
       "      <td>502</td>\n",
       "      <td>0</td>\n",
       "      <td>42</td>\n",
       "      <td>8</td>\n",
       "      <td>159660.80</td>\n",
       "      <td>3</td>\n",
       "      <td>1</td>\n",
       "      <td>0</td>\n",
       "      <td>113931.57</td>\n",
       "      <td>0</td>\n",
       "      <td>0</td>\n",
       "    </tr>\n",
       "    <tr>\n",
       "      <th>3</th>\n",
       "      <td>699</td>\n",
       "      <td>0</td>\n",
       "      <td>39</td>\n",
       "      <td>1</td>\n",
       "      <td>0.00</td>\n",
       "      <td>2</td>\n",
       "      <td>0</td>\n",
       "      <td>0</td>\n",
       "      <td>93826.63</td>\n",
       "      <td>0</td>\n",
       "      <td>0</td>\n",
       "    </tr>\n",
       "    <tr>\n",
       "      <th>4</th>\n",
       "      <td>850</td>\n",
       "      <td>0</td>\n",
       "      <td>43</td>\n",
       "      <td>2</td>\n",
       "      <td>125510.82</td>\n",
       "      <td>1</td>\n",
       "      <td>1</td>\n",
       "      <td>1</td>\n",
       "      <td>79084.10</td>\n",
       "      <td>0</td>\n",
       "      <td>1</td>\n",
       "    </tr>\n",
       "  </tbody>\n",
       "</table>\n",
       "</div>"
      ],
      "text/plain": [
       "   CreditScore  Gender  Age  Tenure    Balance  NumOfProducts  HasCrCard  \\\n",
       "0          619       0   42       2       0.00              1          1   \n",
       "1          608       0   41       1   83807.86              1          0   \n",
       "2          502       0   42       8  159660.80              3          1   \n",
       "3          699       0   39       1       0.00              2          0   \n",
       "4          850       0   43       2  125510.82              1          1   \n",
       "\n",
       "   IsActiveMember  EstimatedSalary  Geography_1  Geography_2  \n",
       "0               1        101348.88            0            0  \n",
       "1               1        112542.58            0            1  \n",
       "2               0        113931.57            0            0  \n",
       "3               0         93826.63            0            0  \n",
       "4               1         79084.10            0            1  "
      ]
     },
     "execution_count": 58,
     "metadata": {},
     "output_type": "execute_result"
    }
   ],
   "source": [
    "X = pd.get_dummies(X, drop_first=True, columns=['Geography'])\n",
    "X.head()"
   ]
  },
  {
   "cell_type": "markdown",
   "metadata": {},
   "source": [
    "#### Feature Standardization"
   ]
  },
  {
   "cell_type": "code",
   "execution_count": 59,
   "metadata": {},
   "outputs": [],
   "source": [
    "from sklearn.preprocessing import StandardScaler\n",
    "X_train, X_test, y_train, y_test = train_test_split(X, y, test_size = 0.2, random_state = 0, stratify = y)\n",
    "scaler = StandardScaler()\n",
    "X_train = scaler.fit_transform(X_train)\n",
    "X_test = scaler.transform(X_test)"
   ]
  },
  {
   "cell_type": "code",
   "execution_count": 60,
   "metadata": {},
   "outputs": [
    {
     "data": {
      "text/plain": [
       "array([[-1.24021723, -1.09665089,  0.77986083, ...,  1.64099027,\n",
       "        -0.57812007, -0.57504086],\n",
       "       [ 0.75974873,  0.91186722, -0.27382717, ..., -1.55587522,\n",
       "         1.72974448, -0.57504086],\n",
       "       [-1.72725557, -1.09665089, -0.9443559 , ...,  1.1038111 ,\n",
       "        -0.57812007, -0.57504086],\n",
       "       ...,\n",
       "       [-0.51484098,  0.91186722,  0.87565065, ..., -1.01507508,\n",
       "         1.72974448, -0.57504086],\n",
       "       [ 0.73902369, -1.09665089, -0.36961699, ..., -1.47887193,\n",
       "        -0.57812007, -0.57504086],\n",
       "       [ 0.95663657,  0.91186722, -1.32751517, ...,  0.50945854,\n",
       "        -0.57812007,  1.73900686]])"
      ]
     },
     "execution_count": 60,
     "metadata": {},
     "output_type": "execute_result"
    }
   ],
   "source": [
    "X_train"
   ]
  },
  {
   "cell_type": "markdown",
   "metadata": {},
   "source": [
    "### Build Artificial Nural Network (ANN)\n"
   ]
  },
  {
   "cell_type": "code",
   "execution_count": 76,
   "metadata": {},
   "outputs": [
    {
     "name": "stdout",
     "output_type": "stream",
     "text": [
      "Train on 8000 samples, validate on 2000 samples\n",
      "Epoch 1/50\n",
      "8000/8000 [==============================] - 1s 114us/sample - loss: 0.4477 - accuracy: 0.8070 - val_loss: 0.4189 - val_accuracy: 0.8255\n",
      "Epoch 2/50\n",
      "8000/8000 [==============================] - 1s 103us/sample - loss: 0.3965 - accuracy: 0.8369 - val_loss: 0.3762 - val_accuracy: 0.8475\n",
      "Epoch 3/50\n",
      "8000/8000 [==============================] - 1s 133us/sample - loss: 0.3621 - accuracy: 0.8546 - val_loss: 0.3560 - val_accuracy: 0.8550\n",
      "Epoch 4/50\n",
      "8000/8000 [==============================] - 1s 108us/sample - loss: 0.3492 - accuracy: 0.8577 - val_loss: 0.3522 - val_accuracy: 0.8540\n",
      "Epoch 5/50\n",
      "8000/8000 [==============================] - 1s 129us/sample - loss: 0.3432 - accuracy: 0.8606 - val_loss: 0.3494 - val_accuracy: 0.8590\n",
      "Epoch 6/50\n",
      "8000/8000 [==============================] - 1s 109us/sample - loss: 0.3376 - accuracy: 0.8593 - val_loss: 0.3460 - val_accuracy: 0.8610\n",
      "Epoch 7/50\n",
      "8000/8000 [==============================] - 1s 139us/sample - loss: 0.3360 - accuracy: 0.8637 - val_loss: 0.3471 - val_accuracy: 0.8550\n",
      "Epoch 8/50\n",
      "8000/8000 [==============================] - 1s 150us/sample - loss: 0.3330 - accuracy: 0.8630 - val_loss: 0.3417 - val_accuracy: 0.8530\n",
      "Epoch 9/50\n",
      "8000/8000 [==============================] - 2s 210us/sample - loss: 0.3314 - accuracy: 0.8625 - val_loss: 0.3520 - val_accuracy: 0.8505\n",
      "Epoch 10/50\n",
      "8000/8000 [==============================] - 1s 176us/sample - loss: 0.3313 - accuracy: 0.8626 - val_loss: 0.3432 - val_accuracy: 0.8555\n",
      "Epoch 11/50\n",
      "8000/8000 [==============================] - 2s 225us/sample - loss: 0.3292 - accuracy: 0.8631 - val_loss: 0.3454 - val_accuracy: 0.8610\n",
      "Epoch 12/50\n",
      "8000/8000 [==============================] - 1s 103us/sample - loss: 0.3272 - accuracy: 0.8648 - val_loss: 0.3479 - val_accuracy: 0.8545\n",
      "Epoch 13/50\n",
      "8000/8000 [==============================] - 1s 104us/sample - loss: 0.3267 - accuracy: 0.8634 - val_loss: 0.3450 - val_accuracy: 0.8580\n",
      "Epoch 14/50\n",
      "8000/8000 [==============================] - 1s 152us/sample - loss: 0.3266 - accuracy: 0.8637 - val_loss: 0.3459 - val_accuracy: 0.8575\n",
      "Epoch 15/50\n",
      "8000/8000 [==============================] - 1s 122us/sample - loss: 0.3247 - accuracy: 0.8656 - val_loss: 0.3473 - val_accuracy: 0.8555\n",
      "Epoch 16/50\n",
      "8000/8000 [==============================] - 1s 124us/sample - loss: 0.3252 - accuracy: 0.8645 - val_loss: 0.3492 - val_accuracy: 0.8555\n",
      "Epoch 17/50\n",
      "8000/8000 [==============================] - 1s 101us/sample - loss: 0.3236 - accuracy: 0.8658 - val_loss: 0.3531 - val_accuracy: 0.8570\n",
      "Epoch 18/50\n",
      "8000/8000 [==============================] - 1s 99us/sample - loss: 0.3238 - accuracy: 0.8654 - val_loss: 0.3488 - val_accuracy: 0.8525\n",
      "Epoch 19/50\n",
      "8000/8000 [==============================] - 1s 96us/sample - loss: 0.3222 - accuracy: 0.8650 - val_loss: 0.3456 - val_accuracy: 0.8530\n",
      "Epoch 20/50\n",
      "8000/8000 [==============================] - 1s 124us/sample - loss: 0.3213 - accuracy: 0.8676 - val_loss: 0.3537 - val_accuracy: 0.8555\n",
      "Epoch 21/50\n",
      "8000/8000 [==============================] - 1s 98us/sample - loss: 0.3212 - accuracy: 0.8671 - val_loss: 0.3482 - val_accuracy: 0.8560\n",
      "Epoch 22/50\n",
      "8000/8000 [==============================] - 1s 98us/sample - loss: 0.3192 - accuracy: 0.8671 - val_loss: 0.3511 - val_accuracy: 0.8540\n",
      "Epoch 23/50\n",
      "8000/8000 [==============================] - 1s 113us/sample - loss: 0.3185 - accuracy: 0.8691 - val_loss: 0.3496 - val_accuracy: 0.8485\n",
      "Epoch 24/50\n",
      "8000/8000 [==============================] - 1s 135us/sample - loss: 0.3177 - accuracy: 0.8674 - val_loss: 0.3572 - val_accuracy: 0.8510\n",
      "Epoch 25/50\n",
      "8000/8000 [==============================] - 1s 125us/sample - loss: 0.3180 - accuracy: 0.8681 - val_loss: 0.3509 - val_accuracy: 0.8500\n",
      "Epoch 26/50\n",
      "8000/8000 [==============================] - 1s 151us/sample - loss: 0.3170 - accuracy: 0.8679 - val_loss: 0.3537 - val_accuracy: 0.8490\n",
      "Epoch 27/50\n",
      "8000/8000 [==============================] - 1s 178us/sample - loss: 0.3160 - accuracy: 0.8674 - val_loss: 0.3505 - val_accuracy: 0.8570\n",
      "Epoch 28/50\n",
      "8000/8000 [==============================] - 1s 92us/sample - loss: 0.3156 - accuracy: 0.8666 - val_loss: 0.3512 - val_accuracy: 0.8535\n",
      "Epoch 29/50\n",
      "8000/8000 [==============================] - 1s 94us/sample - loss: 0.3157 - accuracy: 0.8708 - val_loss: 0.3507 - val_accuracy: 0.8560\n",
      "Epoch 30/50\n",
      "8000/8000 [==============================] - 1s 99us/sample - loss: 0.3144 - accuracy: 0.8700 - val_loss: 0.3498 - val_accuracy: 0.8560\n",
      "Epoch 31/50\n",
      "8000/8000 [==============================] - 1s 129us/sample - loss: 0.3151 - accuracy: 0.8690 - val_loss: 0.3517 - val_accuracy: 0.8535\n",
      "Epoch 32/50\n",
      "8000/8000 [==============================] - 1s 108us/sample - loss: 0.3134 - accuracy: 0.8705 - val_loss: 0.3538 - val_accuracy: 0.8515\n",
      "Epoch 33/50\n",
      "8000/8000 [==============================] - 1s 104us/sample - loss: 0.3131 - accuracy: 0.8694 - val_loss: 0.3528 - val_accuracy: 0.8530\n",
      "Epoch 34/50\n",
      "8000/8000 [==============================] - 1s 97us/sample - loss: 0.3119 - accuracy: 0.8708 - val_loss: 0.3604 - val_accuracy: 0.8485\n",
      "Epoch 35/50\n",
      "8000/8000 [==============================] - 1s 111us/sample - loss: 0.3118 - accuracy: 0.8704 - val_loss: 0.3608 - val_accuracy: 0.8520\n",
      "Epoch 36/50\n",
      "8000/8000 [==============================] - 1s 164us/sample - loss: 0.3127 - accuracy: 0.8701 - val_loss: 0.3501 - val_accuracy: 0.8540\n",
      "Epoch 37/50\n",
      "8000/8000 [==============================] - 1s 96us/sample - loss: 0.3103 - accuracy: 0.8730 - val_loss: 0.3542 - val_accuracy: 0.8515\n",
      "Epoch 38/50\n",
      "8000/8000 [==============================] - 1s 102us/sample - loss: 0.3097 - accuracy: 0.8730 - val_loss: 0.3541 - val_accuracy: 0.8490\n",
      "Epoch 39/50\n",
      "8000/8000 [==============================] - 1s 101us/sample - loss: 0.3081 - accuracy: 0.8725 - val_loss: 0.3572 - val_accuracy: 0.8485\n",
      "Epoch 40/50\n",
      "8000/8000 [==============================] - 1s 108us/sample - loss: 0.3084 - accuracy: 0.8737 - val_loss: 0.3560 - val_accuracy: 0.8525\n",
      "Epoch 41/50\n",
      "8000/8000 [==============================] - 1s 93us/sample - loss: 0.3082 - accuracy: 0.8725 - val_loss: 0.3568 - val_accuracy: 0.8500\n",
      "Epoch 42/50\n",
      "8000/8000 [==============================] - 1s 117us/sample - loss: 0.3060 - accuracy: 0.8706 - val_loss: 0.3545 - val_accuracy: 0.8510\n",
      "Epoch 43/50\n",
      "8000/8000 [==============================] - 1s 110us/sample - loss: 0.3057 - accuracy: 0.8739 - val_loss: 0.3564 - val_accuracy: 0.8530\n",
      "Epoch 44/50\n",
      "8000/8000 [==============================] - 1s 134us/sample - loss: 0.3060 - accuracy: 0.8761 - val_loss: 0.3556 - val_accuracy: 0.8530\n",
      "Epoch 45/50\n",
      "8000/8000 [==============================] - 1s 113us/sample - loss: 0.3060 - accuracy: 0.8724 - val_loss: 0.3570 - val_accuracy: 0.8540\n",
      "Epoch 46/50\n",
      "8000/8000 [==============================] - 1s 102us/sample - loss: 0.3050 - accuracy: 0.8727 - val_loss: 0.3604 - val_accuracy: 0.8515\n",
      "Epoch 47/50\n",
      "8000/8000 [==============================] - 1s 101us/sample - loss: 0.3054 - accuracy: 0.8742 - val_loss: 0.3580 - val_accuracy: 0.8535\n",
      "Epoch 48/50\n",
      "8000/8000 [==============================] - 1s 166us/sample - loss: 0.3040 - accuracy: 0.8736 - val_loss: 0.3593 - val_accuracy: 0.8535\n",
      "Epoch 49/50\n",
      "8000/8000 [==============================] - 1s 98us/sample - loss: 0.3027 - accuracy: 0.8745 - val_loss: 0.3577 - val_accuracy: 0.8555\n",
      "Epoch 50/50\n",
      "8000/8000 [==============================] - 1s 128us/sample - loss: 0.3036 - accuracy: 0.8752 - val_loss: 0.3606 - val_accuracy: 0.8480\n"
     ]
    },
    {
     "data": {
      "text/plain": [
       "<tensorflow.python.keras.callbacks.History at 0x7f23b43da410>"
      ]
     },
     "execution_count": 76,
     "metadata": {},
     "output_type": "execute_result"
    }
   ],
   "source": [
    "# Clear any logs from previous runs\n",
    "!rm -rf ./logs/ \n",
    "model = Sequential()\n",
    "model.add(Dense(X.shape[1], activation='relu', input_dim = X.shape[1]))\n",
    "model.add(Dense(128, activation='relu'))\n",
    "model.add(Dense(1, activation = 'sigmoid'))\n",
    "model.compile(optimizer='adam', loss = 'binary_crossentropy', metrics=['accuracy'])\n",
    "\n",
    "log_dir=\"logs/fit/\" + datetime.datetime.now().strftime(\"%Y%m%d-%H%M%S\")\n",
    "\n",
    "tensorboard_callback = tf.keras.callbacks.TensorBoard(log_dir=log_dir, histogram_freq=1)\n",
    "model.fit(X_train, y_train.to_numpy(), batch_size = 10, epochs = 50, verbose = 1,\n",
    "          validation_data=(X_test, y_test.to_numpy()), \n",
    "          callbacks=[tensorboard_callback])\n"
   ]
  },
  {
   "cell_type": "code",
   "execution_count": 69,
   "metadata": {},
   "outputs": [
    {
     "data": {
      "text/plain": [
       "Reusing TensorBoard on port 6006 (pid 4787), started 0:13:53 ago. (Use '!kill 4787' to kill it.)"
      ]
     },
     "metadata": {},
     "output_type": "display_data"
    },
    {
     "data": {
      "text/html": [
       "\n",
       "      <iframe id=\"tensorboard-frame-630f0feea8e1db53\" width=\"100%\" height=\"800\" frameborder=\"0\">\n",
       "      </iframe>\n",
       "      <script>\n",
       "        (function() {\n",
       "          const frame = document.getElementById(\"tensorboard-frame-630f0feea8e1db53\");\n",
       "          const url = new URL(\"/\", window.location);\n",
       "          url.port = 6006;\n",
       "          frame.src = url;\n",
       "        })();\n",
       "      </script>\n",
       "  "
      ],
      "text/plain": [
       "<IPython.core.display.HTML object>"
      ]
     },
     "metadata": {},
     "output_type": "display_data"
    }
   ],
   "source": [
    "%tensorboard --logdir logs/fit"
   ]
  },
  {
   "cell_type": "code",
   "execution_count": 77,
   "metadata": {},
   "outputs": [
    {
     "data": {
      "text/plain": [
       "array([[0],\n",
       "       [0],\n",
       "       [0],\n",
       "       ...,\n",
       "       [0],\n",
       "       [1],\n",
       "       [0]], dtype=int32)"
      ]
     },
     "execution_count": 77,
     "metadata": {},
     "output_type": "execute_result"
    }
   ],
   "source": [
    "y_pred = model.predict_classes(X_test)\n",
    "y_pred\n"
   ]
  },
  {
   "cell_type": "code",
   "execution_count": 78,
   "metadata": {},
   "outputs": [
    {
     "name": "stdout",
     "output_type": "stream",
     "text": [
      "2000/2000 [==============================] - 0s 39us/sample - loss: 0.3606 - accuracy: 0.8480\n"
     ]
    },
    {
     "data": {
      "text/plain": [
       "[0.36055211269855497, 0.848]"
      ]
     },
     "execution_count": 78,
     "metadata": {},
     "output_type": "execute_result"
    }
   ],
   "source": [
    "model.evaluate(X_test, y_test.to_numpy())\n"
   ]
  },
  {
   "cell_type": "code",
   "execution_count": 79,
   "metadata": {},
   "outputs": [],
   "source": [
    "from sklearn.metrics import confusion_matrix, accuracy_score"
   ]
  },
  {
   "cell_type": "code",
   "execution_count": 80,
   "metadata": {},
   "outputs": [
    {
     "data": {
      "text/plain": [
       "array([[1499,   94],\n",
       "       [ 210,  197]])"
      ]
     },
     "execution_count": 80,
     "metadata": {},
     "output_type": "execute_result"
    }
   ],
   "source": [
    "confusion_matrix(y_test, y_pred)"
   ]
  },
  {
   "cell_type": "code",
   "execution_count": 81,
   "metadata": {},
   "outputs": [
    {
     "data": {
      "text/plain": [
       "84.8"
      ]
     },
     "execution_count": 81,
     "metadata": {},
     "output_type": "execute_result"
    }
   ],
   "source": [
    "accuracy_score(y_test, y_pred)*100\n"
   ]
  },
  {
   "cell_type": "code",
   "execution_count": null,
   "metadata": {},
   "outputs": [],
   "source": []
  },
  {
   "cell_type": "code",
   "execution_count": null,
   "metadata": {},
   "outputs": [],
   "source": []
  }
 ],
 "metadata": {
  "kernelspec": {
   "display_name": "Python 3",
   "language": "python",
   "name": "python3"
  },
  "language_info": {
   "codemirror_mode": {
    "name": "ipython",
    "version": 3
   },
   "file_extension": ".py",
   "mimetype": "text/x-python",
   "name": "python",
   "nbconvert_exporter": "python",
   "pygments_lexer": "ipython3",
   "version": "3.7.6"
  }
 },
 "nbformat": 4,
 "nbformat_minor": 4
}
